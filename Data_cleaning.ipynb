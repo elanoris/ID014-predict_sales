{
 "cells": [
  {
   "cell_type": "markdown",
   "id": "3e26abca",
   "metadata": {},
   "source": [
    "Git\n",
    "git remote add origin https://github.com/duggurd/mini_prosjekt_ml\n",
    "git add --all\n",
    "git commit -m \"2\"\n",
    "git push --all"
   ]
  },
  {
   "cell_type": "markdown",
   "id": "64413608",
   "metadata": {
    "ExecuteTime": {
     "end_time": "2023-01-09T15:29:53.668556Z",
     "start_time": "2023-01-09T15:29:53.662457Z"
    },
    "heading_collapsed": true,
    "id": "64413608"
   },
   "source": [
    "# IMPORTS"
   ]
  },
  {
   "cell_type": "code",
   "execution_count": null,
   "id": "d679a512",
   "metadata": {
    "ExecuteTime": {
     "end_time": "2023-01-09T16:38:38.329426Z",
     "start_time": "2023-01-09T16:38:36.819420Z"
    },
    "executionInfo": {
     "elapsed": 1199,
     "status": "ok",
     "timestamp": 1673281981677,
     "user": {
      "displayName": "Amar Jaganjac",
      "userId": "03392860354726581958"
     },
     "user_tz": -60
    },
    "hidden": true,
    "id": "d679a512"
   },
   "outputs": [],
   "source": [
    "import pandas as pd\n",
    "pd.set_option('display.max_columns', 500)\n",
    "import numpy as np\n",
    "\n",
    "\n",
    "RANDOM_STATE = 420"
   ]
  },
  {
   "cell_type": "markdown",
   "id": "4db0e14f",
   "metadata": {
    "ExecuteTime": {
     "end_time": "2023-01-09T15:30:19.982784Z",
     "start_time": "2023-01-09T15:30:19.968754Z"
    },
    "heading_collapsed": true,
    "id": "4db0e14f"
   },
   "source": [
    "# Load Data"
   ]
  },
  {
   "cell_type": "markdown",
   "id": "f7738b17",
   "metadata": {
    "colab": {
     "base_uri": "https://localhost:8080/"
    },
    "executionInfo": {
     "elapsed": 20049,
     "status": "ok",
     "timestamp": 1673282035147,
     "user": {
      "displayName": "Amar Jaganjac",
      "userId": "03392860354726581958"
     },
     "user_tz": -60
    },
    "hidden": true,
    "id": "a10eaa3b",
    "outputId": "9af71cae-3903-426a-93a5-9a7f02091614"
   },
   "source": [
    "from google.colab import drive\n",
    "\n",
    "drive.mount('/content/drive')"
   ]
  },
  {
   "cell_type": "code",
   "execution_count": null,
   "id": "514d1767",
   "metadata": {
    "ExecuteTime": {
     "end_time": "2023-01-09T16:39:44.458351Z",
     "start_time": "2023-01-09T16:39:43.044503Z"
    },
    "colab": {
     "base_uri": "https://localhost:8080/",
     "height": 432
    },
    "executionInfo": {
     "elapsed": 1767,
     "status": "error",
     "timestamp": 1673282203637,
     "user": {
      "displayName": "Amar Jaganjac",
      "userId": "03392860354726581958"
     },
     "user_tz": -60
    },
    "hidden": true,
    "id": "514d1767",
    "outputId": "7e15db7c-b70d-42f3-b223-7a19ae76af06"
   },
   "outputs": [],
   "source": [
    "path = \"G:\\My Drive\\AW_Academy\\mini_project_week6\\competitive-data-science-predict-future-sales/\"\n",
    "path2 = 'data/'\n",
    "\n",
    "sales = pd.read_csv(f\"G:\\My Drive\\AW_Academy\\mini_project_week6\\competitive-data-science-predict-future-sales/sales_train.csv\") \n",
    "item_cats = pd.read_csv(f\"{path}item_categories.csv\") \n",
    "items = pd.read_csv(f\"{path}items.csv\") \n",
    "shops = pd.read_csv(f\"{path}shops.csv\") \n",
    "test = pd.read_csv(f\"{path}test.csv\")\n",
    "\n",
    "print(f\"Train shape: {sales.shape} \\nTest shape: {test.shape}\")"
   ]
  },
  {
   "cell_type": "markdown",
   "id": "c1609dc6",
   "metadata": {
    "ExecuteTime": {
     "end_time": "2023-01-09T15:32:29.697391Z",
     "start_time": "2023-01-09T15:32:29.694299Z"
    },
    "id": "c1609dc6"
   },
   "source": [
    "# Data washing"
   ]
  },
  {
   "cell_type": "code",
   "execution_count": null,
   "id": "884c2eda",
   "metadata": {
    "ExecuteTime": {
     "end_time": "2023-01-09T16:39:53.962375Z",
     "start_time": "2023-01-09T16:39:53.515932Z"
    },
    "colab": {
     "base_uri": "https://localhost:8080/",
     "height": 217
    },
    "executionInfo": {
     "elapsed": 7,
     "status": "error",
     "timestamp": 1673282053847,
     "user": {
      "displayName": "Amar Jaganjac",
      "userId": "03392860354726581958"
     },
     "user_tz": -60
    },
    "id": "884c2eda",
    "outputId": "b8903337-360b-46ae-a4ad-050cf25ebd0b"
   },
   "outputs": [],
   "source": [
    "# Adding test salesset to training salessaet for easy transformation of both\n",
    "test[\"date_block_num\"] = 34\n",
    "\n",
    "sales = pd.concat([sales, test.drop(columns=[\"ID\"])]).fillna(0)"
   ]
  },
  {
   "cell_type": "code",
   "execution_count": null,
   "id": "2cd4509a",
   "metadata": {
    "ExecuteTime": {
     "end_time": "2023-01-09T16:40:03.460832Z",
     "start_time": "2023-01-09T16:39:57.853277Z"
    },
    "executionInfo": {
     "elapsed": 6,
     "status": "aborted",
     "timestamp": 1673282053848,
     "user": {
      "displayName": "Amar Jaganjac",
      "userId": "03392860354726581958"
     },
     "user_tz": -60
    },
    "id": "2cd4509a"
   },
   "outputs": [],
   "source": [
    "# Removing prices and counts that make no sense\n",
    "sales = sales[sales[\"item_price\"] > 0]\n",
    "sales = sales[sales[\"item_cnt_day\"] >= 0]\n",
    "\n",
    "# Converting to datetime\n",
    "sales[\"date\"] = pd.to_datetime(sales[\"date\"], dayfirst=True)\n",
    "\n",
    "# Adding dayofweek column\n",
    "sales[\"dof\"] = sales[\"date\"].dt.dayofweek\n",
    "\n",
    "# Adding day of year column\n",
    "sales[\"doy\"] = sales[\"date\"].dt.day_of_year\n",
    "\n",
    "# Adding day of month column\n",
    "sales[\"dom\"] = sales[\"date\"].dt.day\n",
    "\n",
    "# Creating revenue column\n",
    "sales[\"revenue\"] = sales[\"item_cnt_day\"] * sales[\"item_price\"]\n",
    "\n",
    "test[\"date_block_num\"] = 34\n",
    "\n",
    "sales = pd.concat([sales, test.drop(columns=[\"ID\"])]).fillna(0)"
   ]
  },
  {
   "cell_type": "code",
   "execution_count": null,
   "id": "2ddc746f",
   "metadata": {
    "ExecuteTime": {
     "end_time": "2023-01-09T16:40:18.373900Z",
     "start_time": "2023-01-09T16:40:18.345890Z"
    },
    "executionInfo": {
     "elapsed": 6,
     "status": "aborted",
     "timestamp": 1673282053848,
     "user": {
      "displayName": "Amar Jaganjac",
      "userId": "03392860354726581958"
     },
     "user_tz": -60
    },
    "id": "2ddc746f"
   },
   "outputs": [],
   "source": [
    "# Creating broader categories and encoding\n",
    "item_cats[\"group_name\"] = item_cats[\"item_category_name\"].str.extract(r\"(^[\\w\\s]*)\")\n",
    "item_cats[\"group_name\"] = item_cats[\"group_name\"].str.strip()\n",
    "le = LabelEncoder()\n",
    "item_cats[\"group_name_id\"] = le.fit_transform(item_cats[\"group_name\"])\n",
    "\n",
    "item_cats.sample(5)"
   ]
  },
  {
   "cell_type": "code",
   "execution_count": null,
   "id": "df2520f5",
   "metadata": {
    "ExecuteTime": {
     "end_time": "2023-01-09T16:40:19.862317Z",
     "start_time": "2023-01-09T16:40:19.766647Z"
    },
    "executionInfo": {
     "elapsed": 7,
     "status": "aborted",
     "timestamp": 1673282053849,
     "user": {
      "displayName": "Amar Jaganjac",
      "userId": "03392860354726581958"
     },
     "user_tz": -60
    },
    "id": "df2520f5"
   },
   "outputs": [],
   "source": [
    "# Cleaning item_name\n",
    "items[\"item_name\"] = items[\"item_name\"].str.lower()\n",
    "items[\"item_name\"] = items[\"item_name\"].str.replace(\".\", \"\", regex=False)\n",
    "\n",
    "# Extracting first n chars of item_name\n",
    "items[\"item_name_no_space\"] = items[\"item_name\"].str.replace(\" \", \"\", regex=False)\n",
    "items[\"item_name_first_4\"] = [x[:4] for x in items[\"item_name_no_space\"]]\n",
    "items[\"item_name_first_6\"] = [x[:6] for x in items[\"item_name_no_space\"]]\n",
    "del items[\"item_name_no_space\"]\n",
    "\n",
    "# Label encoding first n chars\n",
    "items[\"item_name_first_4\"] = le.fit_transform(items[\"item_name_first_4\"])\n",
    "items[\"item_name_first_6\"] = le.fit_transform(items[\"item_name_first_6\"])\n",
    "\n",
    "# Joining items to item_cats\n",
    "items = items.merge(item_cats.set_index(\"item_category_id\"), on=\"item_category_id\")\n",
    "items.sample(5)"
   ]
  },
  {
   "cell_type": "code",
   "execution_count": null,
   "id": "9d3b6f5c",
   "metadata": {
    "ExecuteTime": {
     "end_time": "2023-01-09T16:40:22.769094Z",
     "start_time": "2023-01-09T16:40:22.061215Z"
    },
    "executionInfo": {
     "elapsed": 7,
     "status": "aborted",
     "timestamp": 1673282053849,
     "user": {
      "displayName": "Amar Jaganjac",
      "userId": "03392860354726581958"
     },
     "user_tz": -60
    },
    "id": "9d3b6f5c"
   },
   "outputs": [],
   "source": [
    "# Merging sales with items and categories\n",
    "df = pd.merge(sales, items.drop(columns=[\"item_name\", \"item_category_name\", \"group_name\"]), on=[\"item_id\"])"
   ]
  },
  {
   "cell_type": "code",
   "execution_count": null,
   "id": "1223d4fb",
   "metadata": {
    "ExecuteTime": {
     "end_time": "2023-01-09T16:40:25.269919Z",
     "start_time": "2023-01-09T16:40:23.724069Z"
    },
    "executionInfo": {
     "elapsed": 8,
     "status": "aborted",
     "timestamp": 1673282053850,
     "user": {
      "displayName": "Amar Jaganjac",
      "userId": "03392860354726581958"
     },
     "user_tz": -60
    },
    "id": "1223d4fb"
   },
   "outputs": [],
   "source": [
    "# Removing outliers\n",
    "df = df[df[\"item_cnt_day\"] < df[\"item_cnt_day\"].quantile(0.99)]\n",
    "df = df[df[\"item_price\"] < df[\"item_price\"].quantile(0.99)]"
   ]
  },
  {
   "cell_type": "code",
   "execution_count": null,
   "id": "5e263942",
   "metadata": {
    "ExecuteTime": {
     "end_time": "2023-01-09T16:40:26.382928Z",
     "start_time": "2023-01-09T16:40:26.243766Z"
    },
    "executionInfo": {
     "elapsed": 8,
     "status": "aborted",
     "timestamp": 1673282053850,
     "user": {
      "displayName": "Amar Jaganjac",
      "userId": "03392860354726581958"
     },
     "user_tz": -60
    },
    "id": "5e263942"
   },
   "outputs": [],
   "source": [
    "# Remove date - since we have date_block\n",
    "df.drop('date',axis=1,inplace=True)"
   ]
  },
  {
   "cell_type": "markdown",
   "id": "38d070c8",
   "metadata": {
    "id": "38d070c8"
   },
   "source": [
    "# Export Data"
   ]
  },
  {
   "cell_type": "code",
   "execution_count": null,
   "id": "db091964",
   "metadata": {
    "ExecuteTime": {
     "start_time": "2023-01-09T16:40:28.575Z"
    },
    "executionInfo": {
     "elapsed": 9,
     "status": "aborted",
     "timestamp": 1673282053851,
     "user": {
      "displayName": "Amar Jaganjac",
      "userId": "03392860354726581958"
     },
     "user_tz": -60
    },
    "id": "db091964"
   },
   "outputs": [],
   "source": [
    "compression_opts = dict(method='zip',\n",
    "                        archive_name='df.csv')  \n",
    "\n",
    "df.to_csv('df.zip', index=False,\n",
    "          compression=compression_opts)  "
   ]
  },
  {
   "cell_type": "code",
   "execution_count": null,
   "id": "84784eac",
   "metadata": {},
   "outputs": [],
   "source": []
  }
 ],
 "metadata": {
  "colab": {
   "provenance": []
  },
  "kernelspec": {
   "display_name": ".venv",
   "language": "python",
   "name": "python3"
  },
  "language_info": {
   "codemirror_mode": {
    "name": "ipython",
    "version": 3
   },
   "file_extension": ".py",
   "mimetype": "text/x-python",
   "name": "python",
   "nbconvert_exporter": "python",
   "pygments_lexer": "ipython3",
   "version": "3.11.1 (tags/v3.11.1:a7a450f, Dec  6 2022, 19:58:39) [MSC v.1934 64 bit (AMD64)]"
  },
  "nbTranslate": {
   "displayLangs": [
    "*"
   ],
   "hotkey": "alt-t",
   "langInMainMenu": true,
   "sourceLang": "en",
   "targetLang": "fr",
   "useGoogleTranslate": true
  },
  "toc": {
   "base_numbering": 1,
   "nav_menu": {},
   "number_sections": true,
   "sideBar": true,
   "skip_h1_title": false,
   "title_cell": "Table of Contents",
   "title_sidebar": "Contents",
   "toc_cell": false,
   "toc_position": {},
   "toc_section_display": true,
   "toc_window_display": false
  },
  "varInspector": {
   "cols": {
    "lenName": 16,
    "lenType": 16,
    "lenVar": 40
   },
   "kernels_config": {
    "python": {
     "delete_cmd_postfix": "",
     "delete_cmd_prefix": "del ",
     "library": "var_list.py",
     "varRefreshCmd": "print(var_dic_list())"
    },
    "r": {
     "delete_cmd_postfix": ") ",
     "delete_cmd_prefix": "rm(",
     "library": "var_list.r",
     "varRefreshCmd": "cat(var_dic_list()) "
    }
   },
   "types_to_exclude": [
    "module",
    "function",
    "builtin_function_or_method",
    "instance",
    "_Feature"
   ],
   "window_display": false
  },
  "vscode": {
   "interpreter": {
    "hash": "e9caa910d20d102cdafc73cd2b067d6e1cf42a3b62a36b0e4e3a15dd5f2f5418"
   }
  }
 },
 "nbformat": 4,
 "nbformat_minor": 5
}
