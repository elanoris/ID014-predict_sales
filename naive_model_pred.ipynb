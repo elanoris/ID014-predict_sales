{
 "cells": [
  {
   "attachments": {},
   "cell_type": "markdown",
   "metadata": {},
   "source": [
    "Naive prediction for kaggle scoring"
   ]
  },
  {
   "cell_type": "code",
   "execution_count": null,
   "metadata": {},
   "outputs": [],
   "source": [
    "import pandas as pd\n",
    "import numpy as np\n",
    "\n",
    "## Loading Data\n",
    "sales = pd.read_csv(\"data/sales_train.csv\")\n",
    "test_set = pd.read_csv(\"data/test.csv\")\n",
    "\n",
    "# Combining test with sales for easy transformation of both\n",
    "test_set[\"date_block_num\"] = 34\n",
    "sales[\"date_block_num\"] += 1\n",
    "del sales[\"date\"]\n",
    "del sales[\"item_price\"]\n",
    "sales = sales.groupby(by=[\"item_id\", \"date_block_num\", \"shop_id\"], as_index=False).sum()\n",
    "new_sales = test_set.merge(sales, how=\"left\", on=[\"item_id\", \"date_block_num\", \"shop_id\"])\n",
    "final_naive_pred = new_sales.query(\"date_block_num == 34\").fillna(0)[\"item_cnt_day\"]\n",
    "final_naive_pred.name = \"item_cnt_month\"\n",
    "\n",
    "final_naive_pred.to_csv(\"naive_pred.csv\", index_label=\"ID\")"
   ]
  }
 ],
 "metadata": {
  "kernelspec": {
   "display_name": ".venv",
   "language": "python",
   "name": "python3"
  },
  "language_info": {
   "name": "python"
  },
  "orig_nbformat": 4,
  "vscode": {
   "interpreter": {
    "hash": "e9caa910d20d102cdafc73cd2b067d6e1cf42a3b62a36b0e4e3a15dd5f2f5418"
   }
  }
 },
 "nbformat": 4,
 "nbformat_minor": 2
}
